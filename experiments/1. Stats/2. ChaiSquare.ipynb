{
 "cells": [
  {
   "cell_type": "markdown",
   "metadata": {},
   "source": [
    "Benchmark Code Performance"
   ]
  },
  {
   "cell_type": "markdown",
   "metadata": {},
   "source": [
    "\n",
    "chi square stats formula:\n",
    "$$\n",
    "\\chi^2 = \\sum \\frac{(O_i - E_i)^2}{E_i}\n",
    "$$"
   ]
  },
  {
   "cell_type": "code",
   "execution_count": 10,
   "metadata": {},
   "outputs": [],
   "source": [
    "# Explanation of the Code\n",
    "# Input: The function chi_square_test takes observed frequencies and an optional significance level alpha.\n",
    "# Observed Frequencies: The observed frequencies are converted to a NumPy array.\n",
    "# Expected Frequencies: The expected frequencies are calculated assuming a uniform distribution across categories.\n",
    "# Chi-Square Statistic Calculation: The Chi-Square statistic is computed using the formula provided.\n",
    "# Degrees of Freedom: The degrees of freedom are calculated as the number of categories minus one.\n",
    "# P-Value Calculation: The p-value is calculated using the cumulative distribution function (CDF) of the Chi-Square distribution.\n",
    "# Decision Making: The function prints the Chi-Square statistic, p-value, and whether to reject or fail to reject the null hypothesis based on the p-value."
   ]
  },
  {
   "cell_type": "code",
   "execution_count": 9,
   "metadata": {},
   "outputs": [
    {
     "name": "stdout",
     "output_type": "stream",
     "text": [
      "Chi-Square Statistic: 14.0\n",
      "Alpha: 0.05\n",
      "P-Value: 0.000911881965554473\n",
      "Reject the null hypothesis (significant association).\n"
     ]
    }
   ],
   "source": [
    "import numpy as np\n",
    "from scipy.stats import chi2\n",
    "\n",
    "def chi_square_test(observed, alpha=0.05):\n",
    "    # 11. Convert observed to a numpy array\n",
    "    observed = np.array(observed)\n",
    "    \n",
    "    # 22. Calculate the total observed counts\n",
    "    total_observed = np.sum(observed)\n",
    "    \n",
    "    # from [11. & 22.] A. Calculate the expected frequencies\n",
    "    # Assuming uniform distribution for expected frequencies\n",
    "    expected = np.full_like(observed, total_observed/len(observed), dtype=np.float64)\n",
    "    \n",
    "    # from [A.] 1. Calculate the Chi-Square statistic\n",
    "    chi_square_statistic = np.sum((observed-expected)**2 /expected)\n",
    "    \n",
    "    # 2. Calculate degrees of freedom\n",
    "    degrees_of_freedom = len(observed)-1\n",
    "    \n",
    "    # from [1. & 2.] 3. Calculate the p-value\n",
    "    p_value = 1-chi2.cdf(chi_square_statistic, degrees_of_freedom)\n",
    "    \n",
    "    # from [1. & 3.] Print results\n",
    "    print(f\"Chi-Square Statistic: {chi_square_statistic}\")\n",
    "    print(f\"Alpha: {alpha}\")\n",
    "    print(f\"P-Value: {p_value}\")\n",
    "    \n",
    "    # from [input and 3.] Decision\n",
    "    if p_value < alpha:\n",
    "        print(\"Reject the null hypothesis (significant association).\")\n",
    "    else:\n",
    "        print(\"Fail to reject the null hypothesis (no significant association).\")\n",
    "\n",
    "# Example usage\n",
    "observed_frequencies = [50, 30, 20]  # Example observed frequencies\n",
    "chi_square_test(observed_frequencies)\n"
   ]
  },
  {
   "cell_type": "code",
   "execution_count": null,
   "metadata": {},
   "outputs": [],
   "source": []
  },
  {
   "cell_type": "code",
   "execution_count": null,
   "metadata": {},
   "outputs": [],
   "source": []
  },
  {
   "cell_type": "markdown",
   "metadata": {},
   "source": [
    "My Custom Code Performance"
   ]
  },
  {
   "cell_type": "code",
   "execution_count": null,
   "metadata": {},
   "outputs": [],
   "source": []
  },
  {
   "cell_type": "code",
   "execution_count": null,
   "metadata": {},
   "outputs": [],
   "source": []
  },
  {
   "cell_type": "code",
   "execution_count": null,
   "metadata": {},
   "outputs": [],
   "source": []
  }
 ],
 "metadata": {
  "kernelspec": {
   "display_name": ".venv",
   "language": "python",
   "name": "python3"
  },
  "language_info": {
   "codemirror_mode": {
    "name": "ipython",
    "version": 3
   },
   "file_extension": ".py",
   "mimetype": "text/x-python",
   "name": "python",
   "nbconvert_exporter": "python",
   "pygments_lexer": "ipython3",
   "version": "3.9.5"
  }
 },
 "nbformat": 4,
 "nbformat_minor": 2
}
