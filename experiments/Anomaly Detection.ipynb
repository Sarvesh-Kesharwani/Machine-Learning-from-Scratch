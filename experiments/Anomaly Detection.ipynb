{
 "cells": [
  {
   "cell_type": "code",
   "execution_count": 1,
   "metadata": {},
   "outputs": [],
   "source": [
    "import pandas"
   ]
  },
  {
   "cell_type": "code",
   "execution_count": 2,
   "metadata": {},
   "outputs": [],
   "source": [
    "import numpy as np\n",
    "\n",
    "def isolation_forest(X, n_trees=100, max_depth=None, contamination=0.01):\n",
    "    \"\"\"\n",
    "    Isolation Forest algorithm for anomaly detection.\n",
    "    \n",
    "    Parameters:\n",
    "    X (numpy.ndarray): Input data matrix of shape (n_samples, n_features).\n",
    "    n_trees (int): Number of trees in the forest.\n",
    "    max_depth (int): Maximum depth of each tree.\n",
    "    contamination (float): Proportion of outliers in the data.\n",
    "    \n",
    "    Returns:\n",
    "    numpy.ndarray: Anomaly scores for each sample.\n",
    "    \"\"\"\n",
    "    n_samples, n_features = X.shape\n",
    "    \n",
    "    # Initialize trees\n",
    "    trees = []\n",
    "    for _ in range(n_trees):\n",
    "        tree = _build_tree(X, max_depth)\n",
    "        trees.append(tree)\n",
    "    \n",
    "    # Compute anomaly scores\n",
    "    scores = np.zeros(n_samples)\n",
    "    for i in range(n_samples):\n",
    "        path_lengths = []\n",
    "        for tree in trees:\n",
    "            path_length = _path_length(X[i], tree)\n",
    "            path_lengths.append(path_length)\n",
    "        scores[i] = 2 ** (-np.mean(path_lengths) / c(n_features))\n",
    "    \n",
    "    # Adjust scores based on contamination\n",
    "    threshold = np.percentile(scores, (1 - contamination) * 100)\n",
    "    anomalies = scores < threshold\n",
    "    \n",
    "    return anomalies\n",
    "\n",
    "def _build_tree(X, max_depth=None, depth=0):\n",
    "    \"\"\"\n",
    "    Recursively build an isolation tree.\n",
    "    \"\"\"\n",
    "    n_samples, n_features = X.shape\n",
    "    \n",
    "    if n_samples <= 1 or depth == max_depth:\n",
    "        return None\n",
    "    \n",
    "    # Select a random feature and a random split value\n",
    "    feature = np.random.randint(n_features)\n",
    "    split = np.random.uniform(np.min(X[:, feature]), np.max(X[:, feature]))\n",
    "    \n",
    "    # Split the data based on the selected feature and value\n",
    "    left_idx = X[:, feature] < split\n",
    "    right_idx = ~left_idx\n",
    "    \n",
    "    # Recursively build left and right subtrees\n",
    "    left_tree = _build_tree(X[left_idx], max_depth, depth + 1)\n",
    "    right_tree = _build_tree(X[right_idx], max_depth, depth + 1)\n",
    "    \n",
    "    return (feature, split, left_tree, right_tree)\n",
    "\n",
    "def _path_length(x, tree):\n",
    "    \"\"\"\n",
    "    Compute the path length of a sample in an isolation tree.\n",
    "    \"\"\"\n",
    "    if tree is None:\n",
    "        return depth\n",
    "    \n",
    "    feature, split, left_tree, right_tree = tree\n",
    "    \n",
    "    if x[feature] < split:\n",
    "        return 1 + _path_length(x, left_tree)\n",
    "    else:\n",
    "        return 1 + _path_length(x, right_tree)\n",
    "\n",
    "def c(n):\n",
    "    \"\"\"\n",
    "    Average path length of unsuccessful search in a binary search tree.\n",
    "    \"\"\"\n",
    "    if n <= 1:\n",
    "        return 0\n",
    "    else:\n",
    "        return 2 * (np.log(n - 1) + 0.5772156649) - 2 * (n - 1) / n\n"
   ]
  },
  {
   "cell_type": "code",
   "execution_count": 3,
   "metadata": {},
   "outputs": [
    {
     "ename": "NameError",
     "evalue": "name 'depth' is not defined",
     "output_type": "error",
     "traceback": [
      "\u001b[1;31m---------------------------------------------------------------------------\u001b[0m",
      "\u001b[1;31mNameError\u001b[0m                                 Traceback (most recent call last)",
      "Cell \u001b[1;32mIn[3], line 3\u001b[0m\n\u001b[0;32m      1\u001b[0m \u001b[38;5;66;03m# Example usage\u001b[39;00m\n\u001b[0;32m      2\u001b[0m X \u001b[38;5;241m=\u001b[39m np\u001b[38;5;241m.\u001b[39marray([[\u001b[38;5;241m1\u001b[39m, \u001b[38;5;241m2\u001b[39m], [\u001b[38;5;241m1.5\u001b[39m, \u001b[38;5;241m1.8\u001b[39m], [\u001b[38;5;241m3\u001b[39m, \u001b[38;5;241m4\u001b[39m], [\u001b[38;5;241m2\u001b[39m, \u001b[38;5;241m1\u001b[39m], [\u001b[38;5;241m4\u001b[39m, \u001b[38;5;241m3\u001b[39m], [\u001b[38;5;241m0\u001b[39m, \u001b[38;5;241m0.5\u001b[39m]])\n\u001b[1;32m----> 3\u001b[0m anomalies \u001b[38;5;241m=\u001b[39m \u001b[43misolation_forest\u001b[49m\u001b[43m(\u001b[49m\u001b[43mX\u001b[49m\u001b[43m,\u001b[49m\u001b[43m \u001b[49m\u001b[43mn_trees\u001b[49m\u001b[38;5;241;43m=\u001b[39;49m\u001b[38;5;241;43m10\u001b[39;49m\u001b[43m,\u001b[49m\u001b[43m \u001b[49m\u001b[43mmax_depth\u001b[49m\u001b[38;5;241;43m=\u001b[39;49m\u001b[38;5;28;43;01mNone\u001b[39;49;00m\u001b[43m,\u001b[49m\u001b[43m \u001b[49m\u001b[43mcontamination\u001b[49m\u001b[38;5;241;43m=\u001b[39;49m\u001b[38;5;241;43m0.1\u001b[39;49m\u001b[43m)\u001b[49m\n\u001b[0;32m      5\u001b[0m \u001b[38;5;28mprint\u001b[39m(\u001b[38;5;124m\"\u001b[39m\u001b[38;5;124mAnomaly scores:\u001b[39m\u001b[38;5;124m\"\u001b[39m, anomalies)\n",
      "Cell \u001b[1;32mIn[2], line 29\u001b[0m, in \u001b[0;36misolation_forest\u001b[1;34m(X, n_trees, max_depth, contamination)\u001b[0m\n\u001b[0;32m     27\u001b[0m path_lengths \u001b[38;5;241m=\u001b[39m []\n\u001b[0;32m     28\u001b[0m \u001b[38;5;28;01mfor\u001b[39;00m tree \u001b[38;5;129;01min\u001b[39;00m trees:\n\u001b[1;32m---> 29\u001b[0m     path_length \u001b[38;5;241m=\u001b[39m \u001b[43m_path_length\u001b[49m\u001b[43m(\u001b[49m\u001b[43mX\u001b[49m\u001b[43m[\u001b[49m\u001b[43mi\u001b[49m\u001b[43m]\u001b[49m\u001b[43m,\u001b[49m\u001b[43m \u001b[49m\u001b[43mtree\u001b[49m\u001b[43m)\u001b[49m\n\u001b[0;32m     30\u001b[0m     path_lengths\u001b[38;5;241m.\u001b[39mappend(path_length)\n\u001b[0;32m     31\u001b[0m scores[i] \u001b[38;5;241m=\u001b[39m \u001b[38;5;241m2\u001b[39m \u001b[38;5;241m*\u001b[39m\u001b[38;5;241m*\u001b[39m (\u001b[38;5;241m-\u001b[39mnp\u001b[38;5;241m.\u001b[39mmean(path_lengths) \u001b[38;5;241m/\u001b[39m c(n_features))\n",
      "Cell \u001b[1;32mIn[2], line 74\u001b[0m, in \u001b[0;36m_path_length\u001b[1;34m(x, tree)\u001b[0m\n\u001b[0;32m     72\u001b[0m     \u001b[38;5;28;01mreturn\u001b[39;00m \u001b[38;5;241m1\u001b[39m \u001b[38;5;241m+\u001b[39m _path_length(x, left_tree)\n\u001b[0;32m     73\u001b[0m \u001b[38;5;28;01melse\u001b[39;00m:\n\u001b[1;32m---> 74\u001b[0m     \u001b[38;5;28;01mreturn\u001b[39;00m \u001b[38;5;241m1\u001b[39m \u001b[38;5;241m+\u001b[39m \u001b[43m_path_length\u001b[49m\u001b[43m(\u001b[49m\u001b[43mx\u001b[49m\u001b[43m,\u001b[49m\u001b[43m \u001b[49m\u001b[43mright_tree\u001b[49m\u001b[43m)\u001b[49m\n",
      "Cell \u001b[1;32mIn[2], line 72\u001b[0m, in \u001b[0;36m_path_length\u001b[1;34m(x, tree)\u001b[0m\n\u001b[0;32m     69\u001b[0m feature, split, left_tree, right_tree \u001b[38;5;241m=\u001b[39m tree\n\u001b[0;32m     71\u001b[0m \u001b[38;5;28;01mif\u001b[39;00m x[feature] \u001b[38;5;241m<\u001b[39m split:\n\u001b[1;32m---> 72\u001b[0m     \u001b[38;5;28;01mreturn\u001b[39;00m \u001b[38;5;241m1\u001b[39m \u001b[38;5;241m+\u001b[39m \u001b[43m_path_length\u001b[49m\u001b[43m(\u001b[49m\u001b[43mx\u001b[49m\u001b[43m,\u001b[49m\u001b[43m \u001b[49m\u001b[43mleft_tree\u001b[49m\u001b[43m)\u001b[49m\n\u001b[0;32m     73\u001b[0m \u001b[38;5;28;01melse\u001b[39;00m:\n\u001b[0;32m     74\u001b[0m     \u001b[38;5;28;01mreturn\u001b[39;00m \u001b[38;5;241m1\u001b[39m \u001b[38;5;241m+\u001b[39m _path_length(x, right_tree)\n",
      "Cell \u001b[1;32mIn[2], line 72\u001b[0m, in \u001b[0;36m_path_length\u001b[1;34m(x, tree)\u001b[0m\n\u001b[0;32m     69\u001b[0m feature, split, left_tree, right_tree \u001b[38;5;241m=\u001b[39m tree\n\u001b[0;32m     71\u001b[0m \u001b[38;5;28;01mif\u001b[39;00m x[feature] \u001b[38;5;241m<\u001b[39m split:\n\u001b[1;32m---> 72\u001b[0m     \u001b[38;5;28;01mreturn\u001b[39;00m \u001b[38;5;241m1\u001b[39m \u001b[38;5;241m+\u001b[39m \u001b[43m_path_length\u001b[49m\u001b[43m(\u001b[49m\u001b[43mx\u001b[49m\u001b[43m,\u001b[49m\u001b[43m \u001b[49m\u001b[43mleft_tree\u001b[49m\u001b[43m)\u001b[49m\n\u001b[0;32m     73\u001b[0m \u001b[38;5;28;01melse\u001b[39;00m:\n\u001b[0;32m     74\u001b[0m     \u001b[38;5;28;01mreturn\u001b[39;00m \u001b[38;5;241m1\u001b[39m \u001b[38;5;241m+\u001b[39m _path_length(x, right_tree)\n",
      "Cell \u001b[1;32mIn[2], line 67\u001b[0m, in \u001b[0;36m_path_length\u001b[1;34m(x, tree)\u001b[0m\n\u001b[0;32m     63\u001b[0m \u001b[38;5;250m\u001b[39m\u001b[38;5;124;03m\"\"\"\u001b[39;00m\n\u001b[0;32m     64\u001b[0m \u001b[38;5;124;03mCompute the path length of a sample in an isolation tree.\u001b[39;00m\n\u001b[0;32m     65\u001b[0m \u001b[38;5;124;03m\"\"\"\u001b[39;00m\n\u001b[0;32m     66\u001b[0m \u001b[38;5;28;01mif\u001b[39;00m tree \u001b[38;5;129;01mis\u001b[39;00m \u001b[38;5;28;01mNone\u001b[39;00m:\n\u001b[1;32m---> 67\u001b[0m     \u001b[38;5;28;01mreturn\u001b[39;00m \u001b[43mdepth\u001b[49m\n\u001b[0;32m     69\u001b[0m feature, split, left_tree, right_tree \u001b[38;5;241m=\u001b[39m tree\n\u001b[0;32m     71\u001b[0m \u001b[38;5;28;01mif\u001b[39;00m x[feature] \u001b[38;5;241m<\u001b[39m split:\n",
      "\u001b[1;31mNameError\u001b[0m: name 'depth' is not defined"
     ]
    }
   ],
   "source": [
    "# Example usage\n",
    "X = np.array([[1, 2], [1.5, 1.8], [3, 4], [2, 1], [4, 3], [0, 0.5]])\n",
    "anomalies = isolation_forest(X, n_trees=10, max_depth=None, contamination=0.1)\n",
    "\n",
    "print(\"Anomaly scores:\", anomalies)\n"
   ]
  },
  {
   "cell_type": "code",
   "execution_count": null,
   "metadata": {},
   "outputs": [],
   "source": []
  },
  {
   "cell_type": "code",
   "execution_count": null,
   "metadata": {},
   "outputs": [],
   "source": []
  }
 ],
 "metadata": {
  "kernelspec": {
   "display_name": ".venv",
   "language": "python",
   "name": "python3"
  },
  "language_info": {
   "codemirror_mode": {
    "name": "ipython",
    "version": 3
   },
   "file_extension": ".py",
   "mimetype": "text/x-python",
   "name": "python",
   "nbconvert_exporter": "python",
   "pygments_lexer": "ipython3",
   "version": "3.9.5"
  },
  "orig_nbformat": 4
 },
 "nbformat": 4,
 "nbformat_minor": 2
}
