{
 "cells": [
  {
   "cell_type": "markdown",
   "metadata": {},
   "source": [
    "KNN Classification Algo"
   ]
  },
  {
   "cell_type": "code",
   "execution_count": null,
   "metadata": {},
   "outputs": [],
   "source": []
  },
  {
   "cell_type": "markdown",
   "metadata": {},
   "source": [
    "# Benchmark algo"
   ]
  },
  {
   "cell_type": "code",
   "execution_count": 8,
   "metadata": {},
   "outputs": [],
   "source": [
    "import numpy as np\n",
    "from collections import Counter\n",
    "import matplotlib.pyplot as plt\n",
    "import pandas as pd \n",
    "\n",
    "class KNN:\n",
    "    def __init__(self, k=3):\n",
    "        \"\"\"\n",
    "        Initializes the KNN classifier with the specified number of neighbors.\n",
    "        \n",
    "        Args:\n",
    "            k (int): The number of neighbors to consider for classification.\n",
    "        \"\"\"\n",
    "        self.k = k\n",
    "\n",
    "    def fit(self, X, y):\n",
    "        \"\"\"\n",
    "        Stores the training data.\n",
    "        \n",
    "        Args:\n",
    "            X (numpy.ndarray): The training data features.\n",
    "            y (numpy.ndarray): The training data labels.\n",
    "        \"\"\"\n",
    "        self.X_train = X\n",
    "        self.y_train = y\n",
    "\n",
    "    def predict(self, X):\n",
    "        \"\"\"\n",
    "        Predicts the labels for the given data.\n",
    "        \n",
    "        Args:\n",
    "            X (numpy.ndarray): The data to predict the labels for.\n",
    "        \n",
    "        Returns:\n",
    "            numpy.ndarray: The predicted labels.\n",
    "        \"\"\"\n",
    "        predictions = [self._predict(x) for x in X]\n",
    "        return np.array(predictions)\n",
    "\n",
    "    def _predict(self, x):\n",
    "        \"\"\"\n",
    "        Predicts the label for a single data point.\n",
    "        \n",
    "        Args:\n",
    "            x (numpy.ndarray): The data point to predict the label for.\n",
    "        \n",
    "        Returns:\n",
    "            The predicted label.\n",
    "        \"\"\"\n",
    "        # Compute distances from the training data\n",
    "        distances = np.linalg.norm(self.X_train - x, axis=1)\n",
    "        \n",
    "        # Get the indices of the k nearest neighbors\n",
    "        k_indices = np.argsort(distances)[:self.k]\n",
    "        \n",
    "        # Extract the labels of the k nearest neighbors\n",
    "        k_nearest_labels = [self.y_train[i] for i in k_indices]\n",
    "        \n",
    "        # Return the most common class label\n",
    "        most_common = Counter(k_nearest_labels).most_common(1)\n",
    "        return most_common[0][0]\n"
   ]
  },
  {
   "cell_type": "code",
   "execution_count": 30,
   "metadata": {},
   "outputs": [
    {
     "data": {
      "image/png": "[encoded data removed]",
      "text/plain": [
       "<Figure size 640x480 with 1 Axes>"
      ]
     },
     "metadata": {},
     "output_type": "display_data"
    },
    {
     "name": "stdout",
     "output_type": "stream",
     "text": [
      "Predictions: [0 1 1]\n"
     ]
    }
   ],
   "source": [
    "# Example usage\n",
    "if __name__ == \"__main__\":\n",
    "    # Sample dataset\n",
    "    X_train = np.array([[1, 2],\n",
    "                        [2, 3],\n",
    "                        [3, 1],\n",
    "                        [6, 5],\n",
    "                        [7, 7],\n",
    "                        [8, 6]])\n",
    "    \n",
    "    y_train = np.array([0, 0, 0, 1, 1, 1])  # Labels for the dataset\n",
    "\n",
    "    # Create and fit the model\n",
    "    knn = KNN(k=3)\n",
    "    knn.fit(X_train, y_train)\n",
    "\n",
    "    # Sample test data\n",
    "    X_test = np.array([[1, 1], [5, 5], [7, 5]])\n",
    "\n",
    "    # Make predictions\n",
    "    predictions = knn.predict(X_test)\n",
    "    # fig, ax = plt.subplots(1, 2)\n",
    "    fig, ax = plt.subplots()\n",
    "\n",
    "\n",
    "    ax.set_title('train test')\n",
    "    ax.scatter(X_train[:, 0], X_train[:, 1], c=y_train, marker='o')\n",
    "    ax.scatter(X_test[:, 0], X_test[:, 1], c=predictions, marker='x')\n",
    "    # ax[0].set_title('train')\n",
    "    # ax[0].scatter(X_train[:, 0], X_train[:, 1], c=y_train, marker='o')\n",
    "\n",
    "    # ax[1].set_title('test')\n",
    "    # ax[1].scatter(X_test[:, 0], X_test[:, 1], c=predictions, marker='x')\n",
    "    plt.show()\n",
    "    print(\"Predictions:\", predictions)"
   ]
  },
  {
   "cell_type": "code",
   "execution_count": null,
   "metadata": {},
   "outputs": [],
   "source": []
  },
  {
   "cell_type": "markdown",
   "metadata": {},
   "source": [
    "# Custom Algo"
   ]
  },
  {
   "cell_type": "code",
   "execution_count": null,
   "metadata": {},
   "outputs": [],
   "source": []
  },
  {
   "cell_type": "code",
   "execution_count": null,
   "metadata": {},
   "outputs": [],
   "source": []
  },
  {
   "cell_type": "code",
   "execution_count": null,
   "metadata": {},
   "outputs": [],
   "source": []
  }
 ],
 "metadata": {
  "kernelspec": {
   "display_name": ".venv",
   "language": "python",
   "name": "python3"
  },
  "language_info": {
   "codemirror_mode": {
    "name": "ipython",
    "version": 3
   },
   "file_extension": ".py",
   "mimetype": "text/x-python",
   "name": "python",
   "nbconvert_exporter": "python",
   "pygments_lexer": "ipython3",
   "version": "3.9.5"
  }
 },
 "nbformat": 4,
 "nbformat_minor": 2
}
