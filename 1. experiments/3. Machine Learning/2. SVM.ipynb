{
 "cells": [
  {
   "cell_type": "markdown",
   "metadata": {},
   "source": [
    "# 2 class classification using SVM"
   ]
  },
  {
   "cell_type": "markdown",
   "metadata": {},
   "source": [
    "# Benchmark"
   ]
  },
  {
   "cell_type": "markdown",
   "metadata": {},
   "source": [
    "### Explanation of the Code\n",
    "\n",
    "1. **Class Definition**: The `SVM` class is defined with methods for fitting the model (`fit`) and making predictions (`predict`).\n",
    "2. **Initialization**:\n",
    "    - `learning_rate`: Controls how much to change the model in response to the estimated error each time the model weights are updated.\n",
    "    - `regularization_strength`: Helps prevent overfitting by penalizing large weights.\n",
    "    - `num_iters`: Number of iterations for training.\n",
    "3. **Fitting the Model**:\n",
    "    - The `fit` method initializes weights and bias.\n",
    "    - The labels are converted to -1 and 1 for compatibility with the SVM algorithm.\n",
    "    - The algorithm iterates over the samples and updates the weights and bias based on whether the samples are correctly classified or not.\n",
    "4. **Making Predictions**: The `predict` method calculates the decision function and returns class labels based on the sign of the decision.\n",
    "5. **Example Usage**: A small dataset is created, and the SVM model is trained and tested. The predictions for the test data are printed."
   ]
  },
  {
   "cell_type": "code",
   "execution_count": 4,
   "metadata": {},
   "outputs": [],
   "source": [
    "import numpy as np\n",
    "import matplotlib.pyplot as plt"
   ]
  },
  {
   "cell_type": "code",
   "execution_count": null,
   "metadata": {},
   "outputs": [],
   "source": [
    "\n",
    "class SVM:\n",
    "    def __init__(self, learning_rate=0.01, regularization_strength=1e-3, num_iters=1000):\n",
    "        self.learning_rate = learning_rate\n",
    "        self.regularization_strength = regularization_strength\n",
    "        self.num_iters = num_iters\n",
    "        self.W = None  # Weights\n",
    "        self.b = None  # Bias\n",
    "\n",
    "    def fit(self, X, y):\n",
    "        num_samples, num_features = X.shape\n",
    "        # Initialize weights and bias\n",
    "        self.W = np.zeros(num_features)\n",
    "        self.b = 0\n",
    "\n",
    "        # Convert labels to -1 and 1\n",
    "        y_ = np.where(y <= 0, -1, 1)\n",
    "\n",
    "        for _ in range(self.num_iters):\n",
    "            for i in range(num_samples):\n",
    "                # Calculate the margin\n",
    "                if y_[i] * (np.dot(X[i], self.W) + self.b) >= 1:\n",
    "                    # Correctly classified\n",
    "                    dw = 2 * self.regularization_strength * self.W\n",
    "                    db = 0\n",
    "                else:\n",
    "                    # Misclassified\n",
    "                    dw = 2 * self.regularization_strength * self.W - np.dot(X[i], y_[i])\n",
    "                    db = y_[i]\n",
    "\n",
    "                # Update weights and bias\n",
    "                self.W -= self.learning_rate * dw\n",
    "                self.b -= self.learning_rate * db\n",
    "\n",
    "    def predict(self, X):\n",
    "        # Calculate the decision function\n",
    "        decision = np.dot(X, self.W) + self.b\n",
    "        return np.where(decision >= 0, 1, -1)\n"
   ]
  },
  {
   "cell_type": "code",
   "execution_count": 18,
   "metadata": {},
   "outputs": [
    {
     "data": {
      "image/png": "[encoded data removed]",
      "text/plain": [
       "<Figure size 640x480 with 2 Axes>"
      ]
     },
     "metadata": {},
     "output_type": "display_data"
    },
    {
     "name": "stdout",
     "output_type": "stream",
     "text": [
      "Predictions: [1 1 1]\n"
     ]
    }
   ],
   "source": [
    "# Example usage\n",
    "if __name__ == \"__main__\":\n",
    "    # Sample dataset\n",
    "    X_train = np.array([[1, 2],\n",
    "                        [2, 3],\n",
    "                        [3, 1],\n",
    "                        [6, 5],\n",
    "                        [7, 7],\n",
    "                        [8, 6]])\n",
    "    \n",
    "    y_train = np.array([0, 0, 0, 1, 1, 1])  # Labels for the dataset\n",
    "    y_train = np.where(y_train == 0, -1, 1)  # Convert labels to -1 and 1\n",
    "\n",
    "    # Create and fit the SVM model\n",
    "    svm = SVM(learning_rate=0.01, regularization_strength=1e-3, num_iters=1000)\n",
    "    svm.fit(X_train, y_train)\n",
    "\n",
    "    # Sample test data\n",
    "    X_test = np.array([[1, 1], [5, 5], [7, 5]])\n",
    "    predictions = svm.predict(X_test)\n",
    "\n",
    "    # visualizing training datapoints\n",
    "    fig, ax = plt.subplots(1, 2)\n",
    "    ax[0].scatter(X_train[:, 0], X_train[:, 1], c=y_train, marker='o')\n",
    "    ax[0].scatter(X_test[:, 0], X_test[:, 1], c=predictions, marker='x')\n",
    "    plt.show()\n",
    "\n",
    "    print(\"Predictions:\", predictions)\n"
   ]
  },
  {
   "cell_type": "code",
   "execution_count": null,
   "metadata": {},
   "outputs": [],
   "source": []
  },
  {
   "cell_type": "code",
   "execution_count": null,
   "metadata": {},
   "outputs": [],
   "source": []
  },
  {
   "cell_type": "code",
   "execution_count": null,
   "metadata": {},
   "outputs": [],
   "source": []
  },
  {
   "cell_type": "code",
   "execution_count": null,
   "metadata": {},
   "outputs": [],
   "source": []
  },
  {
   "cell_type": "markdown",
   "metadata": {},
   "source": [
    "# Custom "
   ]
  },
  {
   "cell_type": "code",
   "execution_count": null,
   "metadata": {},
   "outputs": [],
   "source": []
  },
  {
   "cell_type": "code",
   "execution_count": null,
   "metadata": {},
   "outputs": [],
   "source": []
  },
  {
   "cell_type": "code",
   "execution_count": null,
   "metadata": {},
   "outputs": [],
   "source": []
  },
  {
   "cell_type": "code",
   "execution_count": null,
   "metadata": {},
   "outputs": [],
   "source": []
  },
  {
   "cell_type": "code",
   "execution_count": null,
   "metadata": {},
   "outputs": [],
   "source": []
  },
  {
   "cell_type": "code",
   "execution_count": null,
   "metadata": {},
   "outputs": [],
   "source": []
  },
  {
   "cell_type": "code",
   "execution_count": null,
   "metadata": {},
   "outputs": [],
   "source": []
  },
  {
   "cell_type": "code",
   "execution_count": null,
   "metadata": {},
   "outputs": [],
   "source": []
  }
 ],
 "metadata": {
  "kernelspec": {
   "display_name": ".venv",
   "language": "python",
   "name": "python3"
  },
  "language_info": {
   "codemirror_mode": {
    "name": "ipython",
    "version": 3
   },
   "file_extension": ".py",
   "mimetype": "text/x-python",
   "name": "python",
   "nbconvert_exporter": "python",
   "pygments_lexer": "ipython3",
   "version": "3.9.5"
  }
 },
 "nbformat": 4,
 "nbformat_minor": 2
}
