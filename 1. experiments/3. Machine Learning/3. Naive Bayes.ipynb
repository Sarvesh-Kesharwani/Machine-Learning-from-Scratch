{
 "cells": [
  {
   "cell_type": "markdown",
   "metadata": {},
   "source": [
    "# Benchmark"
   ]
  },
  {
   "cell_type": "markdown",
   "metadata": {},
   "source": [
    "### Explanation of the Code\n",
    "\n",
    "1. **Initialization**: The `NaiveBayes` class initializes dictionaries to hold the means, variances, and prior probabilities for each class.\n",
    "\n",
    "2. **Fit Method**:\n",
    "   - The `fit` method calculates the mean and variance of each feature for each class and the prior probabilities based on the class distribution in the training data.\n",
    "\n",
    "3. **Predict Method**:\n",
    "   - The `predict` method computes the posterior probability for each class using the Gaussian probability density function. It returns the class with the highest posterior probability.\n",
    "\n",
    "4. **Example Usage**:\n",
    "   - A simple dataset is created with two features and a binary label. The model is trained on this dataset, and predictions are made."
   ]
  },
  {
   "cell_type": "code",
   "execution_count": 5,
   "metadata": {},
   "outputs": [],
   "source": [
    "import numpy as np\n",
    "import pandas as pd\n",
    "import matplotlib.pyplot as plt"
   ]
  },
  {
   "cell_type": "code",
   "execution_count": 10,
   "metadata": {},
   "outputs": [],
   "source": [
    "class NaiveBayes:\n",
    "    def __init__(self):\n",
    "        self.means = {}\n",
    "        self.variances = {}\n",
    "        self.priors = {}\n",
    "        self.classes = None\n",
    "\n",
    "    def fit(self, X, y):\n",
    "        # Calculate the mean, variance, and prior probabilities for each class\n",
    "        self.classes = np.unique(y)\n",
    "        for c in self.classes:\n",
    "            X_c = X[y == c]\n",
    "            self.means[c] = X_c.mean(axis=0)\n",
    "            self.variances[c] = X_c.var(axis=0)\n",
    "            self.priors[c] = X_c.shape[0] / X.shape[0]\n",
    "\n",
    "    def predict(self, X):\n",
    "        # Calculate the posterior probabilities for each class\n",
    "        posteriors = []\n",
    "        for c in self.classes:\n",
    "            prior = np.log(self.priors[c])\n",
    "            likelihood = -0.5*np.sum(np.log(2 * np.pi * self.variances[c])) \\\n",
    "                         -0.5*np.sum(((X-self.means[c])**2)/self.variances[c], axis=1)\n",
    "            posterior = prior + likelihood\n",
    "            posteriors.append(posterior)\n",
    "        \n",
    "        return self.classes[np.argmax(posteriors, axis=0)]\n"
   ]
  },
  {
   "cell_type": "code",
   "execution_count": 11,
   "metadata": {},
   "outputs": [
    {
     "name": "stdout",
     "output_type": "stream",
     "text": [
      "Predictions: [0 0 0 1 1 1]\n"
     ]
    }
   ],
   "source": [
    "# Create a simple dataset\n",
    "data = {\n",
    "    'feature1': [1.0, 2.0, 1.5, 2.5, 3.0, 3.5],\n",
    "    'feature2': [1.0, 1.5, 1.2, 1.8, 2.0, 2.5],\n",
    "    'label': [0, 0, 0, 1, 1, 1]\n",
    "}\n",
    "\n",
    "df = pd.DataFrame(data)\n",
    "X = df[['feature1', 'feature2']].values\n",
    "y = df['label'].values\n",
    "\n",
    "# Initialize and train the Naive Bayes classifier\n",
    "nb = NaiveBayes()\n",
    "nb.fit(X, y)\n",
    "\n",
    "# Make predictions\n",
    "predictions = nb.predict(X)\n",
    "print(\"Predictions:\", predictions)\n"
   ]
  },
  {
   "cell_type": "code",
   "execution_count": null,
   "metadata": {},
   "outputs": [],
   "source": []
  },
  {
   "cell_type": "code",
   "execution_count": null,
   "metadata": {},
   "outputs": [],
   "source": []
  },
  {
   "cell_type": "code",
   "execution_count": null,
   "metadata": {},
   "outputs": [],
   "source": []
  },
  {
   "cell_type": "code",
   "execution_count": null,
   "metadata": {},
   "outputs": [],
   "source": []
  },
  {
   "cell_type": "markdown",
   "metadata": {},
   "source": [
    "# Custom"
   ]
  },
  {
   "cell_type": "code",
   "execution_count": null,
   "metadata": {},
   "outputs": [],
   "source": []
  },
  {
   "cell_type": "code",
   "execution_count": null,
   "metadata": {},
   "outputs": [],
   "source": []
  },
  {
   "cell_type": "code",
   "execution_count": null,
   "metadata": {},
   "outputs": [],
   "source": []
  },
  {
   "cell_type": "code",
   "execution_count": null,
   "metadata": {},
   "outputs": [],
   "source": []
  },
  {
   "cell_type": "code",
   "execution_count": null,
   "metadata": {},
   "outputs": [],
   "source": []
  },
  {
   "cell_type": "code",
   "execution_count": null,
   "metadata": {},
   "outputs": [],
   "source": []
  },
  {
   "cell_type": "code",
   "execution_count": null,
   "metadata": {},
   "outputs": [],
   "source": []
  },
  {
   "cell_type": "code",
   "execution_count": null,
   "metadata": {},
   "outputs": [],
   "source": []
  }
 ],
 "metadata": {
  "kernelspec": {
   "display_name": ".venv",
   "language": "python",
   "name": "python3"
  },
  "language_info": {
   "codemirror_mode": {
    "name": "ipython",
    "version": 3
   },
   "file_extension": ".py",
   "mimetype": "text/x-python",
   "name": "python",
   "nbconvert_exporter": "python",
   "pygments_lexer": "ipython3",
   "version": "3.9.5"
  }
 },
 "nbformat": 4,
 "nbformat_minor": 2
}
